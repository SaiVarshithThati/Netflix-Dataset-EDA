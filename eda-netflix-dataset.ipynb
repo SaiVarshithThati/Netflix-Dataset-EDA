{
 "cells": [
  {
   "cell_type": "markdown",
   "id": "e438ba58",
   "metadata": {
    "_cell_guid": "b1076dfc-b9ad-4769-8c92-a6c4dae69d19",
    "_uuid": "8f2839f25d086af736a60e9eeb907d3b93b6e0e5",
    "papermill": {
     "duration": 0.020904,
     "end_time": "2023-08-27T18:51:33.959165",
     "exception": false,
     "start_time": "2023-08-27T18:51:33.938261",
     "status": "completed"
    },
    "tags": []
   },
   "source": [
    "# Table of Content\n",
    "* [Reading and Inspecting Data](#reading)\n",
    "* [Data Cleaning](#data_cleaning)\n",
    "    * [Handling Missing values](#handling_missing_values)\n",
    "* [Unvariate Analysis](#univariate_analysis)\n",
    "* [Bivariate Analysis](#bivariate_analysis)\n",
    "* [Summary](#summary)"
   ]
  },
  {
   "cell_type": "markdown",
   "id": "3f64d3a0",
   "metadata": {
    "execution": {
     "iopub.execute_input": "2023-08-27T18:37:45.505324Z",
     "iopub.status.busy": "2023-08-27T18:37:45.504878Z",
     "iopub.status.idle": "2023-08-27T18:37:45.510742Z",
     "shell.execute_reply": "2023-08-27T18:37:45.509324Z",
     "shell.execute_reply.started": "2023-08-27T18:37:45.505287Z"
    },
    "papermill": {
     "duration": 0.020383,
     "end_time": "2023-08-27T18:51:34.001045",
     "exception": false,
     "start_time": "2023-08-27T18:51:33.980662",
     "status": "completed"
    },
    "tags": []
   },
   "source": [
    "# Reading and Inspecting Data"
   ]
  },
  {
   "cell_type": "code",
   "execution_count": 1,
   "id": "a0c62d64",
   "metadata": {
    "execution": {
     "iopub.execute_input": "2023-08-27T18:51:34.044719Z",
     "iopub.status.busy": "2023-08-27T18:51:34.043854Z",
     "iopub.status.idle": "2023-08-27T18:51:35.380099Z",
     "shell.execute_reply": "2023-08-27T18:51:35.379274Z"
    },
    "papermill": {
     "duration": 1.360813,
     "end_time": "2023-08-27T18:51:35.382523",
     "exception": false,
     "start_time": "2023-08-27T18:51:34.021710",
     "status": "completed"
    },
    "tags": []
   },
   "outputs": [],
   "source": [
    "import pandas as pd\n",
    "import numpy as np\n",
    "import matplotlib.pyplot as plt\n",
    "import seaborn as sns"
   ]
  },
  {
   "cell_type": "code",
   "execution_count": 2,
   "id": "68899975",
   "metadata": {
    "execution": {
     "iopub.execute_input": "2023-08-27T18:51:35.426438Z",
     "iopub.status.busy": "2023-08-27T18:51:35.425763Z",
     "iopub.status.idle": "2023-08-27T18:51:35.605914Z",
     "shell.execute_reply": "2023-08-27T18:51:35.604889Z"
    },
    "papermill": {
     "duration": 0.205239,
     "end_time": "2023-08-27T18:51:35.608445",
     "exception": false,
     "start_time": "2023-08-27T18:51:35.403206",
     "status": "completed"
    },
    "tags": []
   },
   "outputs": [
    {
     "data": {
      "text/html": [
       "<div>\n",
       "<style scoped>\n",
       "    .dataframe tbody tr th:only-of-type {\n",
       "        vertical-align: middle;\n",
       "    }\n",
       "\n",
       "    .dataframe tbody tr th {\n",
       "        vertical-align: top;\n",
       "    }\n",
       "\n",
       "    .dataframe thead th {\n",
       "        text-align: right;\n",
       "    }\n",
       "</style>\n",
       "<table border=\"1\" class=\"dataframe\">\n",
       "  <thead>\n",
       "    <tr style=\"text-align: right;\">\n",
       "      <th></th>\n",
       "      <th>show_id</th>\n",
       "      <th>type</th>\n",
       "      <th>title</th>\n",
       "      <th>director</th>\n",
       "      <th>cast</th>\n",
       "      <th>country</th>\n",
       "      <th>date_added</th>\n",
       "      <th>release_year</th>\n",
       "      <th>rating</th>\n",
       "      <th>duration</th>\n",
       "      <th>listed_in</th>\n",
       "      <th>description</th>\n",
       "    </tr>\n",
       "  </thead>\n",
       "  <tbody>\n",
       "    <tr>\n",
       "      <th>0</th>\n",
       "      <td>s1</td>\n",
       "      <td>Movie</td>\n",
       "      <td>Dick Johnson Is Dead</td>\n",
       "      <td>Kirsten Johnson</td>\n",
       "      <td>NaN</td>\n",
       "      <td>United States</td>\n",
       "      <td>September 25, 2021</td>\n",
       "      <td>2020</td>\n",
       "      <td>PG-13</td>\n",
       "      <td>90 min</td>\n",
       "      <td>Documentaries</td>\n",
       "      <td>As her father nears the end of his life, filmm...</td>\n",
       "    </tr>\n",
       "    <tr>\n",
       "      <th>1</th>\n",
       "      <td>s2</td>\n",
       "      <td>TV Show</td>\n",
       "      <td>Blood &amp; Water</td>\n",
       "      <td>NaN</td>\n",
       "      <td>Ama Qamata, Khosi Ngema, Gail Mabalane, Thaban...</td>\n",
       "      <td>South Africa</td>\n",
       "      <td>September 24, 2021</td>\n",
       "      <td>2021</td>\n",
       "      <td>TV-MA</td>\n",
       "      <td>2 Seasons</td>\n",
       "      <td>International TV Shows, TV Dramas, TV Mysteries</td>\n",
       "      <td>After crossing paths at a party, a Cape Town t...</td>\n",
       "    </tr>\n",
       "    <tr>\n",
       "      <th>2</th>\n",
       "      <td>s3</td>\n",
       "      <td>TV Show</td>\n",
       "      <td>Ganglands</td>\n",
       "      <td>Julien Leclercq</td>\n",
       "      <td>Sami Bouajila, Tracy Gotoas, Samuel Jouy, Nabi...</td>\n",
       "      <td>NaN</td>\n",
       "      <td>September 24, 2021</td>\n",
       "      <td>2021</td>\n",
       "      <td>TV-MA</td>\n",
       "      <td>1 Season</td>\n",
       "      <td>Crime TV Shows, International TV Shows, TV Act...</td>\n",
       "      <td>To protect his family from a powerful drug lor...</td>\n",
       "    </tr>\n",
       "    <tr>\n",
       "      <th>3</th>\n",
       "      <td>s4</td>\n",
       "      <td>TV Show</td>\n",
       "      <td>Jailbirds New Orleans</td>\n",
       "      <td>NaN</td>\n",
       "      <td>NaN</td>\n",
       "      <td>NaN</td>\n",
       "      <td>September 24, 2021</td>\n",
       "      <td>2021</td>\n",
       "      <td>TV-MA</td>\n",
       "      <td>1 Season</td>\n",
       "      <td>Docuseries, Reality TV</td>\n",
       "      <td>Feuds, flirtations and toilet talk go down amo...</td>\n",
       "    </tr>\n",
       "    <tr>\n",
       "      <th>4</th>\n",
       "      <td>s5</td>\n",
       "      <td>TV Show</td>\n",
       "      <td>Kota Factory</td>\n",
       "      <td>NaN</td>\n",
       "      <td>Mayur More, Jitendra Kumar, Ranjan Raj, Alam K...</td>\n",
       "      <td>India</td>\n",
       "      <td>September 24, 2021</td>\n",
       "      <td>2021</td>\n",
       "      <td>TV-MA</td>\n",
       "      <td>2 Seasons</td>\n",
       "      <td>International TV Shows, Romantic TV Shows, TV ...</td>\n",
       "      <td>In a city of coaching centers known to train I...</td>\n",
       "    </tr>\n",
       "  </tbody>\n",
       "</table>\n",
       "</div>"
      ],
      "text/plain": [
       "  show_id     type                  title         director  \\\n",
       "0      s1    Movie   Dick Johnson Is Dead  Kirsten Johnson   \n",
       "1      s2  TV Show          Blood & Water              NaN   \n",
       "2      s3  TV Show              Ganglands  Julien Leclercq   \n",
       "3      s4  TV Show  Jailbirds New Orleans              NaN   \n",
       "4      s5  TV Show           Kota Factory              NaN   \n",
       "\n",
       "                                                cast        country  \\\n",
       "0                                                NaN  United States   \n",
       "1  Ama Qamata, Khosi Ngema, Gail Mabalane, Thaban...   South Africa   \n",
       "2  Sami Bouajila, Tracy Gotoas, Samuel Jouy, Nabi...            NaN   \n",
       "3                                                NaN            NaN   \n",
       "4  Mayur More, Jitendra Kumar, Ranjan Raj, Alam K...          India   \n",
       "\n",
       "           date_added  release_year rating   duration  \\\n",
       "0  September 25, 2021          2020  PG-13     90 min   \n",
       "1  September 24, 2021          2021  TV-MA  2 Seasons   \n",
       "2  September 24, 2021          2021  TV-MA   1 Season   \n",
       "3  September 24, 2021          2021  TV-MA   1 Season   \n",
       "4  September 24, 2021          2021  TV-MA  2 Seasons   \n",
       "\n",
       "                                           listed_in  \\\n",
       "0                                      Documentaries   \n",
       "1    International TV Shows, TV Dramas, TV Mysteries   \n",
       "2  Crime TV Shows, International TV Shows, TV Act...   \n",
       "3                             Docuseries, Reality TV   \n",
       "4  International TV Shows, Romantic TV Shows, TV ...   \n",
       "\n",
       "                                         description  \n",
       "0  As her father nears the end of his life, filmm...  \n",
       "1  After crossing paths at a party, a Cape Town t...  \n",
       "2  To protect his family from a powerful drug lor...  \n",
       "3  Feuds, flirtations and toilet talk go down amo...  \n",
       "4  In a city of coaching centers known to train I...  "
      ]
     },
     "execution_count": 2,
     "metadata": {},
     "output_type": "execute_result"
    }
   ],
   "source": [
    "df = pd.read_csv('netflix.csv')\n",
    "df.head()"
   ]
  },
  {
   "cell_type": "code",
   "execution_count": 3,
   "id": "ef3d3957",
   "metadata": {
    "execution": {
     "iopub.execute_input": "2023-08-27T18:51:35.694811Z",
     "iopub.status.busy": "2023-08-27T18:51:35.694135Z",
     "iopub.status.idle": "2023-08-27T18:51:35.698907Z",
     "shell.execute_reply": "2023-08-27T18:51:35.698203Z"
    },
    "papermill": {
     "duration": 0.029694,
     "end_time": "2023-08-27T18:51:35.701273",
     "exception": false,
     "start_time": "2023-08-27T18:51:35.671579",
     "status": "completed"
    },
    "tags": []
   },
   "outputs": [
    {
     "name": "stdout",
     "output_type": "stream",
     "text": [
      "<class 'pandas.core.frame.DataFrame'>\n",
      "RangeIndex: 8807 entries, 0 to 8806\n",
      "Data columns (total 12 columns):\n",
      " #   Column        Non-Null Count  Dtype \n",
      "---  ------        --------------  ----- \n",
      " 0   show_id       8807 non-null   object\n",
      " 1   type          8807 non-null   object\n",
      " 2   title         8807 non-null   object\n",
      " 3   director      6173 non-null   object\n",
      " 4   cast          7982 non-null   object\n",
      " 5   country       7976 non-null   object\n",
      " 6   date_added    8797 non-null   object\n",
      " 7   release_year  8807 non-null   int64 \n",
      " 8   rating        8803 non-null   object\n",
      " 9   duration      8804 non-null   object\n",
      " 10  listed_in     8807 non-null   object\n",
      " 11  description   8807 non-null   object\n",
      "dtypes: int64(1), object(11)\n",
      "memory usage: 825.8+ KB\n",
      "Dataset has 8807 rows and 12 columns\n"
     ]
    }
   ],
   "source": [
    "df.info()\n",
    "print(f'Dataset has {df.shape[0]} rows and {df.shape[1]} columns')"
   ]
  },
  {
   "cell_type": "markdown",
   "id": "c530a0a6",
   "metadata": {
    "execution": {
     "iopub.execute_input": "2023-08-27T16:17:29.307794Z",
     "iopub.status.busy": "2023-08-27T16:17:29.307319Z",
     "iopub.status.idle": "2023-08-27T16:17:29.314943Z",
     "shell.execute_reply": "2023-08-27T16:17:29.313624Z",
     "shell.execute_reply.started": "2023-08-27T16:17:29.307755Z"
    },
    "papermill": {
     "duration": 0.021551,
     "end_time": "2023-08-27T18:51:36.009666",
     "exception": false,
     "start_time": "2023-08-27T18:51:35.988115",
     "status": "completed"
    },
    "tags": []
   },
   "source": [
    "<a id = 'data_cleaning'></a>\n",
    "# Data Cleaning"
   ]
  },
  {
   "cell_type": "markdown",
   "id": "af1064bf",
   "metadata": {
    "papermill": {
     "duration": 0.021103,
     "end_time": "2023-08-27T18:51:36.052126",
     "exception": false,
     "start_time": "2023-08-27T18:51:36.031023",
     "status": "completed"
    },
    "tags": []
   },
   "source": [
    "<a id = 'handling_missing_values'></a>\n",
    "## Handling Missing Values"
   ]
  },
  {
   "cell_type": "code",
   "execution_count": 4,
   "id": "bbd6e4f4",
   "metadata": {
    "execution": {
     "iopub.execute_input": "2023-08-27T18:51:36.096697Z",
     "iopub.status.busy": "2023-08-27T18:51:36.096333Z",
     "iopub.status.idle": "2023-08-27T18:51:36.135646Z",
     "shell.execute_reply": "2023-08-27T18:51:36.134881Z"
    },
    "papermill": {
     "duration": 0.064304,
     "end_time": "2023-08-27T18:51:36.137615",
     "exception": false,
     "start_time": "2023-08-27T18:51:36.073311",
     "status": "completed"
    },
    "tags": []
   },
   "outputs": [
    {
     "data": {
      "text/plain": [
       "show_id          0.000000\n",
       "type             0.000000\n",
       "title            0.000000\n",
       "director        29.908028\n",
       "cast             9.367549\n",
       "country          9.435676\n",
       "date_added       0.113546\n",
       "release_year     0.000000\n",
       "rating           0.045418\n",
       "duration         0.034064\n",
       "listed_in        0.000000\n",
       "description      0.000000\n",
       "dtype: float64"
      ]
     },
     "execution_count": 4,
     "metadata": {},
     "output_type": "execute_result"
    }
   ],
   "source": [
    "# check % of missing values\n",
    "df.isnull().mean()*100\n"
   ]
  },
  {
   "cell_type": "code",
   "execution_count": 5,
   "id": "16769bef",
   "metadata": {
    "execution": {
     "iopub.execute_input": "2023-08-27T18:51:36.300876Z",
     "iopub.status.busy": "2023-08-27T18:51:36.300512Z",
     "iopub.status.idle": "2023-08-27T18:51:36.312889Z",
     "shell.execute_reply": "2023-08-27T18:51:36.311848Z"
    },
    "papermill": {
     "duration": 0.038506,
     "end_time": "2023-08-27T18:51:36.314968",
     "exception": false,
     "start_time": "2023-08-27T18:51:36.276462",
     "status": "completed"
    },
    "tags": []
   },
   "outputs": [
    {
     "data": {
      "text/plain": [
       "0"
      ]
     },
     "execution_count": 5,
     "metadata": {},
     "output_type": "execute_result"
    }
   ],
   "source": [
    "# replacing NaN with 'unknown' in director columns\n",
    "df['director'] = df['director'].fillna('unknown')\n",
    "df['director'].isnull().sum()"
   ]
  },
  {
   "cell_type": "code",
   "execution_count": 6,
   "id": "9014643f",
   "metadata": {
    "execution": {
     "iopub.execute_input": "2023-08-27T18:51:36.527514Z",
     "iopub.status.busy": "2023-08-27T18:51:36.527121Z",
     "iopub.status.idle": "2023-08-27T18:51:36.539421Z",
     "shell.execute_reply": "2023-08-27T18:51:36.538412Z"
    },
    "papermill": {
     "duration": 0.038427,
     "end_time": "2023-08-27T18:51:36.541673",
     "exception": false,
     "start_time": "2023-08-27T18:51:36.503246",
     "status": "completed"
    },
    "tags": []
   },
   "outputs": [
    {
     "data": {
      "text/plain": [
       "0"
      ]
     },
     "execution_count": 6,
     "metadata": {},
     "output_type": "execute_result"
    }
   ],
   "source": [
    "# replacing NaN with 'unknown' in cast columns\n",
    "df['cast'] = df['cast'].fillna('unknown')\n",
    "df['cast'].isnull().sum()"
   ]
  },
  {
   "cell_type": "code",
   "execution_count": 7,
   "id": "3de26139",
   "metadata": {
    "execution": {
     "iopub.execute_input": "2023-08-27T18:51:36.754981Z",
     "iopub.status.busy": "2023-08-27T18:51:36.754627Z",
     "iopub.status.idle": "2023-08-27T18:51:36.766154Z",
     "shell.execute_reply": "2023-08-27T18:51:36.765131Z"
    },
    "papermill": {
     "duration": 0.039145,
     "end_time": "2023-08-27T18:51:36.768823",
     "exception": false,
     "start_time": "2023-08-27T18:51:36.729678",
     "status": "completed"
    },
    "tags": []
   },
   "outputs": [
    {
     "data": {
      "text/plain": [
       "0"
      ]
     },
     "execution_count": 7,
     "metadata": {},
     "output_type": "execute_result"
    }
   ],
   "source": [
    "df['country'] = df['country'].fillna('unknown')\n",
    "df['country'].isnull().sum()"
   ]
  },
  {
   "cell_type": "markdown",
   "id": "83f02138",
   "metadata": {
    "papermill": {
     "duration": 0.029111,
     "end_time": "2023-08-27T18:51:36.825758",
     "exception": false,
     "start_time": "2023-08-27T18:51:36.796647",
     "status": "completed"
    },
    "tags": []
   },
   "source": [
    "* **\"data_added, rating, duration\" feature have less amount of NaN values,we can directly drop that.**"
   ]
  },
  {
   "cell_type": "code",
   "execution_count": 8,
   "id": "6a5c572c",
   "metadata": {
    "execution": {
     "iopub.execute_input": "2023-08-27T18:51:36.879431Z",
     "iopub.status.busy": "2023-08-27T18:51:36.878893Z",
     "iopub.status.idle": "2023-08-27T18:51:36.963153Z",
     "shell.execute_reply": "2023-08-27T18:51:36.962022Z"
    },
    "papermill": {
     "duration": 0.116082,
     "end_time": "2023-08-27T18:51:36.965845",
     "exception": false,
     "start_time": "2023-08-27T18:51:36.849763",
     "status": "completed"
    },
    "tags": []
   },
   "outputs": [
    {
     "data": {
      "text/plain": [
       "show_id         0.0\n",
       "type            0.0\n",
       "title           0.0\n",
       "director        0.0\n",
       "cast            0.0\n",
       "country         0.0\n",
       "date_added      0.0\n",
       "release_year    0.0\n",
       "rating          0.0\n",
       "duration        0.0\n",
       "listed_in       0.0\n",
       "description     0.0\n",
       "dtype: float64"
      ]
     },
     "execution_count": 8,
     "metadata": {},
     "output_type": "execute_result"
    }
   ],
   "source": [
    "df.dropna(inplace = True)\n",
    "df.isnull().mean()*100"
   ]
  },
  {
   "cell_type": "markdown",
   "id": "f06e43b4",
   "metadata": {
    "execution": {
     "iopub.execute_input": "2023-08-27T17:11:36.446984Z",
     "iopub.status.busy": "2023-08-27T17:11:36.446503Z",
     "iopub.status.idle": "2023-08-27T17:11:36.455546Z",
     "shell.execute_reply": "2023-08-27T17:11:36.453679Z",
     "shell.execute_reply.started": "2023-08-27T17:11:36.446944Z"
    },
    "papermill": {
     "duration": 0.026257,
     "end_time": "2023-08-27T18:51:37.718899",
     "exception": false,
     "start_time": "2023-08-27T18:51:37.692642",
     "status": "completed"
    },
    "tags": []
   },
   "source": [
    "<a id ='univariate_analysis'></a>\n",
    "# Univariate Analysis"
   ]
  },
  {
   "cell_type": "markdown",
   "id": "e8bbf637",
   "metadata": {
    "papermill": {
     "duration": 0.025943,
     "end_time": "2023-08-27T18:51:37.771539",
     "exception": false,
     "start_time": "2023-08-27T18:51:37.745596",
     "status": "completed"
    },
    "tags": []
   },
   "source": [
    "## Analysing 'Type' feature"
   ]
  },
  {
   "cell_type": "code",
   "execution_count": 9,
   "id": "58b061c8",
   "metadata": {
    "execution": {
     "iopub.execute_input": "2023-08-27T18:51:37.826879Z",
     "iopub.status.busy": "2023-08-27T18:51:37.826071Z",
     "iopub.status.idle": "2023-08-27T18:51:37.834403Z",
     "shell.execute_reply": "2023-08-27T18:51:37.833223Z"
    },
    "papermill": {
     "duration": 0.038746,
     "end_time": "2023-08-27T18:51:37.836952",
     "exception": false,
     "start_time": "2023-08-27T18:51:37.798206",
     "status": "completed"
    },
    "tags": []
   },
   "outputs": [
    {
     "data": {
      "text/plain": [
       "2"
      ]
     },
     "execution_count": 9,
     "metadata": {},
     "output_type": "execute_result"
    }
   ],
   "source": [
    "df['type'].nunique()"
   ]
  },
  {
   "cell_type": "code",
   "execution_count": 10,
   "id": "668a3118",
   "metadata": {
    "execution": {
     "iopub.execute_input": "2023-08-27T18:51:37.893249Z",
     "iopub.status.busy": "2023-08-27T18:51:37.892872Z",
     "iopub.status.idle": "2023-08-27T18:51:37.901540Z",
     "shell.execute_reply": "2023-08-27T18:51:37.900827Z"
    },
    "papermill": {
     "duration": 0.038817,
     "end_time": "2023-08-27T18:51:37.903657",
     "exception": false,
     "start_time": "2023-08-27T18:51:37.864840",
     "status": "completed"
    },
    "tags": []
   },
   "outputs": [
    {
     "data": {
      "text/plain": [
       "Movie      0.696928\n",
       "TV Show    0.303072\n",
       "Name: type, dtype: float64"
      ]
     },
     "execution_count": 10,
     "metadata": {},
     "output_type": "execute_result"
    }
   ],
   "source": [
    "df['type'].value_counts(normalize=True)"
   ]
  },
  {
   "cell_type": "code",
   "execution_count": 11,
   "id": "7194859c",
   "metadata": {
    "execution": {
     "iopub.execute_input": "2023-08-27T18:51:37.960708Z",
     "iopub.status.busy": "2023-08-27T18:51:37.959817Z",
     "iopub.status.idle": "2023-08-27T18:51:38.294332Z",
     "shell.execute_reply": "2023-08-27T18:51:38.293224Z"
    },
    "papermill": {
     "duration": 0.365188,
     "end_time": "2023-08-27T18:51:38.296787",
     "exception": false,
     "start_time": "2023-08-27T18:51:37.931599",
     "status": "completed"
    },
    "tags": []
   },
   "outputs": [
    {
     "data": {
      "text/plain": [
       "<Axes: >"
      ]
     },
     "execution_count": 11,
     "metadata": {},
     "output_type": "execute_result"
    },
    {
     "data": {
      "image/png": "[encoded data removed]",
      "text/plain": [
       "<Figure size 640x480 with 1 Axes>"
      ]
     },
     "metadata": {},
     "output_type": "display_data"
    }
   ],
   "source": [
    "df['type'].value_counts(normalize=True).plot.bar()"
   ]
  },
  {
   "cell_type": "markdown",
   "id": "899f8143",
   "metadata": {
    "execution": {
     "iopub.execute_input": "2023-08-27T17:13:41.146747Z",
     "iopub.status.busy": "2023-08-27T17:13:41.146246Z",
     "iopub.status.idle": "2023-08-27T17:13:41.154607Z",
     "shell.execute_reply": "2023-08-27T17:13:41.153094Z",
     "shell.execute_reply.started": "2023-08-27T17:13:41.146708Z"
    },
    "papermill": {
     "duration": 0.027053,
     "end_time": "2023-08-27T18:51:38.351153",
     "exception": false,
     "start_time": "2023-08-27T18:51:38.324100",
     "status": "completed"
    },
    "tags": []
   },
   "source": [
    "* **Inference:**\n",
    "* On Netflix  69% are Movie and 31% are TV Show"
   ]
  },
  {
   "cell_type": "markdown",
   "id": "1805114f",
   "metadata": {
    "papermill": {
     "duration": 0.026322,
     "end_time": "2023-08-27T18:51:38.404575",
     "exception": false,
     "start_time": "2023-08-27T18:51:38.378253",
     "status": "completed"
    },
    "tags": []
   },
   "source": [
    "## Analysing 'director' feature"
   ]
  },
  {
   "cell_type": "code",
   "execution_count": 12,
   "id": "9a80940a",
   "metadata": {
    "execution": {
     "iopub.execute_input": "2023-08-27T18:51:38.460907Z",
     "iopub.status.busy": "2023-08-27T18:51:38.460486Z",
     "iopub.status.idle": "2023-08-27T18:51:38.469307Z",
     "shell.execute_reply": "2023-08-27T18:51:38.468434Z"
    },
    "papermill": {
     "duration": 0.039336,
     "end_time": "2023-08-27T18:51:38.471306",
     "exception": false,
     "start_time": "2023-08-27T18:51:38.431970",
     "status": "completed"
    },
    "tags": []
   },
   "outputs": [
    {
     "data": {
      "text/plain": [
       "4527"
      ]
     },
     "execution_count": 12,
     "metadata": {},
     "output_type": "execute_result"
    }
   ],
   "source": [
    "df['director'].nunique()"
   ]
  },
  {
   "cell_type": "code",
   "execution_count": 13,
   "id": "ab344066",
   "metadata": {
    "execution": {
     "iopub.execute_input": "2023-08-27T18:51:38.528105Z",
     "iopub.status.busy": "2023-08-27T18:51:38.527120Z",
     "iopub.status.idle": "2023-08-27T18:51:38.540046Z",
     "shell.execute_reply": "2023-08-27T18:51:38.539035Z"
    },
    "papermill": {
     "duration": 0.043808,
     "end_time": "2023-08-27T18:51:38.542208",
     "exception": false,
     "start_time": "2023-08-27T18:51:38.498400",
     "status": "completed"
    },
    "tags": []
   },
   "outputs": [
    {
     "data": {
      "text/plain": [
       "unknown                           2621\n",
       "Rajiv Chilaka                       19\n",
       "Raúl Campos, Jan Suter              18\n",
       "Suhas Kadav                         16\n",
       "Marcus Raboy                        16\n",
       "                                  ... \n",
       "Raymie Muzquiz, Stu Livingston       1\n",
       "Joe Menendez                         1\n",
       "Eric Bross                           1\n",
       "Will Eisenberg                       1\n",
       "Mozez Singh                          1\n",
       "Name: director, Length: 4527, dtype: int64"
      ]
     },
     "execution_count": 13,
     "metadata": {},
     "output_type": "execute_result"
    }
   ],
   "source": [
    "df['director'].value_counts()"
   ]
  },
  {
   "cell_type": "markdown",
   "id": "b8033c59",
   "metadata": {
    "papermill": {
     "duration": 0.026925,
     "end_time": "2023-08-27T18:51:38.596702",
     "exception": false,
     "start_time": "2023-08-27T18:51:38.569777",
     "status": "completed"
    },
    "tags": []
   },
   "source": [
    "**inference**\n",
    "* Director \"Rajiv Chilaka\" has released highest number of shows."
   ]
  },
  {
   "cell_type": "markdown",
   "id": "f7ebfa50",
   "metadata": {
    "papermill": {
     "duration": 0.027022,
     "end_time": "2023-08-27T18:51:38.651341",
     "exception": false,
     "start_time": "2023-08-27T18:51:38.624319",
     "status": "completed"
    },
    "tags": []
   },
   "source": [
    "## Analysing 'country' Feature"
   ]
  },
  {
   "cell_type": "code",
   "execution_count": 14,
   "id": "326058d3",
   "metadata": {
    "execution": {
     "iopub.execute_input": "2023-08-27T18:51:38.708320Z",
     "iopub.status.busy": "2023-08-27T18:51:38.707879Z",
     "iopub.status.idle": "2023-08-27T18:51:38.716282Z",
     "shell.execute_reply": "2023-08-27T18:51:38.715165Z"
    },
    "papermill": {
     "duration": 0.039749,
     "end_time": "2023-08-27T18:51:38.718636",
     "exception": false,
     "start_time": "2023-08-27T18:51:38.678887",
     "status": "completed"
    },
    "tags": []
   },
   "outputs": [
    {
     "data": {
      "text/plain": [
       "749"
      ]
     },
     "execution_count": 14,
     "metadata": {},
     "output_type": "execute_result"
    }
   ],
   "source": [
    "df['country'].nunique()"
   ]
  },
  {
   "cell_type": "code",
   "execution_count": 15,
   "id": "bba04b4a",
   "metadata": {
    "execution": {
     "iopub.execute_input": "2023-08-27T18:51:38.776102Z",
     "iopub.status.busy": "2023-08-27T18:51:38.775675Z",
     "iopub.status.idle": "2023-08-27T18:51:38.787025Z",
     "shell.execute_reply": "2023-08-27T18:51:38.786241Z"
    },
    "papermill": {
     "duration": 0.042599,
     "end_time": "2023-08-27T18:51:38.789130",
     "exception": false,
     "start_time": "2023-08-27T18:51:38.746531",
     "status": "completed"
    },
    "tags": []
   },
   "outputs": [
    {
     "data": {
      "text/plain": [
       "United States    0.319568\n",
       "India            0.110580\n",
       "unknown          0.094312\n",
       "Name: country, dtype: float64"
      ]
     },
     "execution_count": 15,
     "metadata": {},
     "output_type": "execute_result"
    }
   ],
   "source": [
    "# Top 3 countries based on count on shows\n",
    "df['country'].value_counts(normalize=True)[:3]"
   ]
  },
  {
   "cell_type": "code",
   "execution_count": 16,
   "id": "0eadc99e",
   "metadata": {
    "execution": {
     "iopub.execute_input": "2023-08-27T18:51:38.847005Z",
     "iopub.status.busy": "2023-08-27T18:51:38.845782Z",
     "iopub.status.idle": "2023-08-27T18:51:39.142602Z",
     "shell.execute_reply": "2023-08-27T18:51:39.141426Z"
    },
    "papermill": {
     "duration": 0.32779,
     "end_time": "2023-08-27T18:51:39.144848",
     "exception": false,
     "start_time": "2023-08-27T18:51:38.817058",
     "status": "completed"
    },
    "tags": []
   },
   "outputs": [
    {
     "data": {
      "text/plain": [
       "<Axes: >"
      ]
     },
     "execution_count": 16,
     "metadata": {},
     "output_type": "execute_result"
    },
    {
     "data": {
      "image/png": "[encoded data removed]",
      "text/plain": [
       "<Figure size 640x480 with 1 Axes>"
      ]
     },
     "metadata": {},
     "output_type": "display_data"
    }
   ],
   "source": [
    "df['country'].value_counts(normalize=True)[:3].plot.bar()"
   ]
  },
  {
   "cell_type": "markdown",
   "id": "17fb312a",
   "metadata": {
    "papermill": {
     "duration": 0.03124,
     "end_time": "2023-08-27T18:51:39.205186",
     "exception": false,
     "start_time": "2023-08-27T18:51:39.173946",
     "status": "completed"
    },
    "tags": []
   },
   "source": [
    "**Inference**\n",
    "* On Netflix most of the shows are from USA(31%) and India(11%)"
   ]
  },
  {
   "cell_type": "markdown",
   "id": "2b3973b4",
   "metadata": {
    "papermill": {
     "duration": 0.02946,
     "end_time": "2023-08-27T18:51:41.191591",
     "exception": false,
     "start_time": "2023-08-27T18:51:41.162131",
     "status": "completed"
    },
    "tags": []
   },
   "source": [
    "## Analysing 'rating' feature"
   ]
  },
  {
   "cell_type": "code",
   "execution_count": 17,
   "id": "a8f1b136",
   "metadata": {
    "execution": {
     "iopub.execute_input": "2023-08-27T18:51:41.252682Z",
     "iopub.status.busy": "2023-08-27T18:51:41.252288Z",
     "iopub.status.idle": "2023-08-27T18:51:41.259970Z",
     "shell.execute_reply": "2023-08-27T18:51:41.259005Z"
    },
    "papermill": {
     "duration": 0.040464,
     "end_time": "2023-08-27T18:51:41.262041",
     "exception": false,
     "start_time": "2023-08-27T18:51:41.221577",
     "status": "completed"
    },
    "tags": []
   },
   "outputs": [
    {
     "data": {
      "text/plain": [
       "14"
      ]
     },
     "execution_count": 17,
     "metadata": {},
     "output_type": "execute_result"
    }
   ],
   "source": [
    "df.rating.nunique()"
   ]
  },
  {
   "cell_type": "code",
   "execution_count": 18,
   "id": "51ea7260",
   "metadata": {
    "execution": {
     "iopub.execute_input": "2023-08-27T18:51:41.325648Z",
     "iopub.status.busy": "2023-08-27T18:51:41.325018Z",
     "iopub.status.idle": "2023-08-27T18:51:41.646491Z",
     "shell.execute_reply": "2023-08-27T18:51:41.645366Z"
    },
    "papermill": {
     "duration": 0.355268,
     "end_time": "2023-08-27T18:51:41.648884",
     "exception": false,
     "start_time": "2023-08-27T18:51:41.293616",
     "status": "completed"
    },
    "tags": []
   },
   "outputs": [
    {
     "data": {
      "text/plain": [
       "<Axes: >"
      ]
     },
     "execution_count": 18,
     "metadata": {},
     "output_type": "execute_result"
    },
    {
     "data": {
      "image/png": "[encoded data removed]",
      "text/plain": [
       "<Figure size 640x480 with 1 Axes>"
      ]
     },
     "metadata": {},
     "output_type": "display_data"
    }
   ],
   "source": [
    "df.rating.value_counts(normalize=True)[:5].plot.bar()"
   ]
  },
  {
   "cell_type": "markdown",
   "id": "e8cb5e6e",
   "metadata": {
    "papermill": {
     "duration": 0.030699,
     "end_time": "2023-08-27T18:51:41.711524",
     "exception": false,
     "start_time": "2023-08-27T18:51:41.680825",
     "status": "completed"
    },
    "tags": []
   },
   "source": [
    "**Inference**\n",
    "* Most of the movies have got rating 'TV-MA,TV-14,TV-PG'."
   ]
  },
  {
   "cell_type": "code",
   "execution_count": 19,
   "id": "6a1e81ed",
   "metadata": {
    "execution": {
     "iopub.execute_input": "2023-08-27T18:51:41.774966Z",
     "iopub.status.busy": "2023-08-27T18:51:41.774571Z",
     "iopub.status.idle": "2023-08-27T18:51:41.791062Z",
     "shell.execute_reply": "2023-08-27T18:51:41.790244Z"
    },
    "papermill": {
     "duration": 0.05114,
     "end_time": "2023-08-27T18:51:41.793560",
     "exception": false,
     "start_time": "2023-08-27T18:51:41.742420",
     "status": "completed"
    },
    "tags": []
   },
   "outputs": [],
   "source": [
    "# Analysing 'listed_in' feature\n",
    "genre_list = df['listed_in'].str.split(',')"
   ]
  },
  {
   "cell_type": "code",
   "execution_count": 20,
   "id": "f2a5be2a",
   "metadata": {
    "execution": {
     "iopub.execute_input": "2023-08-27T18:51:41.857270Z",
     "iopub.status.busy": "2023-08-27T18:51:41.856501Z",
     "iopub.status.idle": "2023-08-27T18:51:41.887006Z",
     "shell.execute_reply": "2023-08-27T18:51:41.886144Z"
    },
    "papermill": {
     "duration": 0.065153,
     "end_time": "2023-08-27T18:51:41.889567",
     "exception": false,
     "start_time": "2023-08-27T18:51:41.824414",
     "status": "completed"
    },
    "tags": []
   },
   "outputs": [],
   "source": [
    "df['genre_1'] = genre_list.str.get(0)\n",
    "df['genre_2'] = genre_list.str.get(1)\n",
    "df['genre_3'] = genre_list.str.get(2)\n"
   ]
  },
  {
   "cell_type": "code",
   "execution_count": 21,
   "id": "60388aba",
   "metadata": {
    "execution": {
     "iopub.execute_input": "2023-08-27T18:51:41.953227Z",
     "iopub.status.busy": "2023-08-27T18:51:41.952840Z",
     "iopub.status.idle": "2023-08-27T18:51:41.960812Z",
     "shell.execute_reply": "2023-08-27T18:51:41.960125Z"
    },
    "papermill": {
     "duration": 0.042379,
     "end_time": "2023-08-27T18:51:41.962835",
     "exception": false,
     "start_time": "2023-08-27T18:51:41.920456",
     "status": "completed"
    },
    "tags": []
   },
   "outputs": [],
   "source": [
    "# droping column 'listed_in'\n",
    "df.drop('listed_in',axis =1,inplace =True)"
   ]
  },
  {
   "cell_type": "code",
   "execution_count": 22,
   "id": "c003f51b",
   "metadata": {
    "execution": {
     "iopub.execute_input": "2023-08-27T18:51:42.026027Z",
     "iopub.status.busy": "2023-08-27T18:51:42.025649Z",
     "iopub.status.idle": "2023-08-27T18:51:42.045226Z",
     "shell.execute_reply": "2023-08-27T18:51:42.044127Z"
    },
    "papermill": {
     "duration": 0.054212,
     "end_time": "2023-08-27T18:51:42.047540",
     "exception": false,
     "start_time": "2023-08-27T18:51:41.993328",
     "status": "completed"
    },
    "tags": []
   },
   "outputs": [
    {
     "data": {
      "text/html": [
       "<div>\n",
       "<style scoped>\n",
       "    .dataframe tbody tr th:only-of-type {\n",
       "        vertical-align: middle;\n",
       "    }\n",
       "\n",
       "    .dataframe tbody tr th {\n",
       "        vertical-align: top;\n",
       "    }\n",
       "\n",
       "    .dataframe thead th {\n",
       "        text-align: right;\n",
       "    }\n",
       "</style>\n",
       "<table border=\"1\" class=\"dataframe\">\n",
       "  <thead>\n",
       "    <tr style=\"text-align: right;\">\n",
       "      <th></th>\n",
       "      <th>show_id</th>\n",
       "      <th>type</th>\n",
       "      <th>title</th>\n",
       "      <th>director</th>\n",
       "      <th>cast</th>\n",
       "      <th>country</th>\n",
       "      <th>date_added</th>\n",
       "      <th>release_year</th>\n",
       "      <th>rating</th>\n",
       "      <th>duration</th>\n",
       "      <th>description</th>\n",
       "      <th>genre_1</th>\n",
       "      <th>genre_2</th>\n",
       "      <th>genre_3</th>\n",
       "    </tr>\n",
       "  </thead>\n",
       "  <tbody>\n",
       "    <tr>\n",
       "      <th>0</th>\n",
       "      <td>s1</td>\n",
       "      <td>Movie</td>\n",
       "      <td>Dick Johnson Is Dead</td>\n",
       "      <td>Kirsten Johnson</td>\n",
       "      <td>unknown</td>\n",
       "      <td>United States</td>\n",
       "      <td>September 25, 2021</td>\n",
       "      <td>2020</td>\n",
       "      <td>PG-13</td>\n",
       "      <td>90 min</td>\n",
       "      <td>As her father nears the end of his life, filmm...</td>\n",
       "      <td>Documentaries</td>\n",
       "      <td>NaN</td>\n",
       "      <td>NaN</td>\n",
       "    </tr>\n",
       "    <tr>\n",
       "      <th>1</th>\n",
       "      <td>s2</td>\n",
       "      <td>TV Show</td>\n",
       "      <td>Blood &amp; Water</td>\n",
       "      <td>unknown</td>\n",
       "      <td>Ama Qamata, Khosi Ngema, Gail Mabalane, Thaban...</td>\n",
       "      <td>South Africa</td>\n",
       "      <td>September 24, 2021</td>\n",
       "      <td>2021</td>\n",
       "      <td>TV-MA</td>\n",
       "      <td>2 Seasons</td>\n",
       "      <td>After crossing paths at a party, a Cape Town t...</td>\n",
       "      <td>International TV Shows</td>\n",
       "      <td>TV Dramas</td>\n",
       "      <td>TV Mysteries</td>\n",
       "    </tr>\n",
       "    <tr>\n",
       "      <th>2</th>\n",
       "      <td>s3</td>\n",
       "      <td>TV Show</td>\n",
       "      <td>Ganglands</td>\n",
       "      <td>Julien Leclercq</td>\n",
       "      <td>Sami Bouajila, Tracy Gotoas, Samuel Jouy, Nabi...</td>\n",
       "      <td>unknown</td>\n",
       "      <td>September 24, 2021</td>\n",
       "      <td>2021</td>\n",
       "      <td>TV-MA</td>\n",
       "      <td>1 Season</td>\n",
       "      <td>To protect his family from a powerful drug lor...</td>\n",
       "      <td>Crime TV Shows</td>\n",
       "      <td>International TV Shows</td>\n",
       "      <td>TV Action &amp; Adventure</td>\n",
       "    </tr>\n",
       "    <tr>\n",
       "      <th>3</th>\n",
       "      <td>s4</td>\n",
       "      <td>TV Show</td>\n",
       "      <td>Jailbirds New Orleans</td>\n",
       "      <td>unknown</td>\n",
       "      <td>unknown</td>\n",
       "      <td>unknown</td>\n",
       "      <td>September 24, 2021</td>\n",
       "      <td>2021</td>\n",
       "      <td>TV-MA</td>\n",
       "      <td>1 Season</td>\n",
       "      <td>Feuds, flirtations and toilet talk go down amo...</td>\n",
       "      <td>Docuseries</td>\n",
       "      <td>Reality TV</td>\n",
       "      <td>NaN</td>\n",
       "    </tr>\n",
       "    <tr>\n",
       "      <th>4</th>\n",
       "      <td>s5</td>\n",
       "      <td>TV Show</td>\n",
       "      <td>Kota Factory</td>\n",
       "      <td>unknown</td>\n",
       "      <td>Mayur More, Jitendra Kumar, Ranjan Raj, Alam K...</td>\n",
       "      <td>India</td>\n",
       "      <td>September 24, 2021</td>\n",
       "      <td>2021</td>\n",
       "      <td>TV-MA</td>\n",
       "      <td>2 Seasons</td>\n",
       "      <td>In a city of coaching centers known to train I...</td>\n",
       "      <td>International TV Shows</td>\n",
       "      <td>Romantic TV Shows</td>\n",
       "      <td>TV Comedies</td>\n",
       "    </tr>\n",
       "  </tbody>\n",
       "</table>\n",
       "</div>"
      ],
      "text/plain": [
       "  show_id     type                  title         director  \\\n",
       "0      s1    Movie   Dick Johnson Is Dead  Kirsten Johnson   \n",
       "1      s2  TV Show          Blood & Water          unknown   \n",
       "2      s3  TV Show              Ganglands  Julien Leclercq   \n",
       "3      s4  TV Show  Jailbirds New Orleans          unknown   \n",
       "4      s5  TV Show           Kota Factory          unknown   \n",
       "\n",
       "                                                cast        country  \\\n",
       "0                                            unknown  United States   \n",
       "1  Ama Qamata, Khosi Ngema, Gail Mabalane, Thaban...   South Africa   \n",
       "2  Sami Bouajila, Tracy Gotoas, Samuel Jouy, Nabi...        unknown   \n",
       "3                                            unknown        unknown   \n",
       "4  Mayur More, Jitendra Kumar, Ranjan Raj, Alam K...          India   \n",
       "\n",
       "           date_added  release_year rating   duration  \\\n",
       "0  September 25, 2021          2020  PG-13     90 min   \n",
       "1  September 24, 2021          2021  TV-MA  2 Seasons   \n",
       "2  September 24, 2021          2021  TV-MA   1 Season   \n",
       "3  September 24, 2021          2021  TV-MA   1 Season   \n",
       "4  September 24, 2021          2021  TV-MA  2 Seasons   \n",
       "\n",
       "                                         description                 genre_1  \\\n",
       "0  As her father nears the end of his life, filmm...           Documentaries   \n",
       "1  After crossing paths at a party, a Cape Town t...  International TV Shows   \n",
       "2  To protect his family from a powerful drug lor...          Crime TV Shows   \n",
       "3  Feuds, flirtations and toilet talk go down amo...              Docuseries   \n",
       "4  In a city of coaching centers known to train I...  International TV Shows   \n",
       "\n",
       "                   genre_2                 genre_3  \n",
       "0                      NaN                     NaN  \n",
       "1                TV Dramas            TV Mysteries  \n",
       "2   International TV Shows   TV Action & Adventure  \n",
       "3               Reality TV                     NaN  \n",
       "4        Romantic TV Shows             TV Comedies  "
      ]
     },
     "execution_count": 22,
     "metadata": {},
     "output_type": "execute_result"
    }
   ],
   "source": [
    "df.head()"
   ]
  },
  {
   "cell_type": "code",
   "execution_count": 23,
   "id": "56b16c05",
   "metadata": {
    "execution": {
     "iopub.execute_input": "2023-08-27T18:51:42.112131Z",
     "iopub.status.busy": "2023-08-27T18:51:42.111147Z",
     "iopub.status.idle": "2023-08-27T18:51:42.493629Z",
     "shell.execute_reply": "2023-08-27T18:51:42.492514Z"
    },
    "papermill": {
     "duration": 0.417839,
     "end_time": "2023-08-27T18:51:42.496262",
     "exception": false,
     "start_time": "2023-08-27T18:51:42.078423",
     "status": "completed"
    },
    "tags": []
   },
   "outputs": [
    {
     "data": {
      "text/plain": [
       "<Axes: >"
      ]
     },
     "execution_count": 23,
     "metadata": {},
     "output_type": "execute_result"
    },
    {
     "data": {
      "image/png": "[encoded data removed]",
      "text/plain": [
       "<Figure size 640x480 with 1 Axes>"
      ]
     },
     "metadata": {},
     "output_type": "display_data"
    }
   ],
   "source": [
    "df['genre_1'].value_counts(normalize=True)[:5].plot.bar()"
   ]
  },
  {
   "cell_type": "markdown",
   "id": "3e2740a7",
   "metadata": {
    "papermill": {
     "duration": 0.031513,
     "end_time": "2023-08-27T18:51:42.559818",
     "exception": false,
     "start_time": "2023-08-27T18:51:42.528305",
     "status": "completed"
    },
    "tags": []
   },
   "source": [
    "**Inference**\n",
    "* Netflix has highest (i.e.17% ) shows of 'Drama' genre,followed by 'Comedies' genre."
   ]
  },
  {
   "cell_type": "markdown",
   "id": "986879ac",
   "metadata": {
    "execution": {
     "iopub.execute_input": "2023-08-27T18:22:30.683224Z",
     "iopub.status.busy": "2023-08-27T18:22:30.682780Z",
     "iopub.status.idle": "2023-08-27T18:22:30.691335Z",
     "shell.execute_reply": "2023-08-27T18:22:30.689371Z",
     "shell.execute_reply.started": "2023-08-27T18:22:30.683193Z"
    },
    "papermill": {
     "duration": 0.032242,
     "end_time": "2023-08-27T18:51:42.782111",
     "exception": false,
     "start_time": "2023-08-27T18:51:42.749869",
     "status": "completed"
    },
    "tags": []
   },
   "source": [
    "<a id = 'bivariate Analysis'></a>\n",
    "# Bivariate Analysis"
   ]
  },
  {
   "cell_type": "code",
   "execution_count": 24,
   "id": "e5f81c41",
   "metadata": {
    "execution": {
     "iopub.execute_input": "2023-08-27T18:51:42.849753Z",
     "iopub.status.busy": "2023-08-27T18:51:42.848974Z",
     "iopub.status.idle": "2023-08-27T18:51:42.862131Z",
     "shell.execute_reply": "2023-08-27T18:51:42.861272Z"
    },
    "papermill": {
     "duration": 0.049695,
     "end_time": "2023-08-27T18:51:42.864515",
     "exception": false,
     "start_time": "2023-08-27T18:51:42.814820",
     "status": "completed"
    },
    "tags": []
   },
   "outputs": [],
   "source": [
    "temp_df = df[df['country'].isin(df['country'].value_counts()[:5].index)]"
   ]
  },
  {
   "cell_type": "code",
   "execution_count": 25,
   "id": "fb93eb38",
   "metadata": {
    "execution": {
     "iopub.execute_input": "2023-08-27T18:51:42.931266Z",
     "iopub.status.busy": "2023-08-27T18:51:42.930798Z",
     "iopub.status.idle": "2023-08-27T18:51:43.352530Z",
     "shell.execute_reply": "2023-08-27T18:51:43.351517Z"
    },
    "papermill": {
     "duration": 0.458974,
     "end_time": "2023-08-27T18:51:43.355491",
     "exception": false,
     "start_time": "2023-08-27T18:51:42.896517",
     "status": "completed"
    },
    "tags": []
   },
   "outputs": [
    {
     "data": {
      "text/plain": [
       "<Axes: xlabel='country', ylabel='count'>"
      ]
     },
     "execution_count": 25,
     "metadata": {},
     "output_type": "execute_result"
    },
    {
     "data": {
      "image/png": "[encoded data removed]",
      "text/plain": [
       "<Figure size 640x480 with 1 Axes>"
      ]
     },
     "metadata": {},
     "output_type": "display_data"
    }
   ],
   "source": [
    "sns.countplot(data=temp_df,x='country',hue='type')"
   ]
  },
  {
   "cell_type": "markdown",
   "id": "c58a609d",
   "metadata": {
    "papermill": {
     "duration": 0.033508,
     "end_time": "2023-08-27T18:51:43.423212",
     "exception": false,
     "start_time": "2023-08-27T18:51:43.389704",
     "status": "completed"
    },
    "tags": []
   },
   "source": [
    "**Inference:**\n",
    "* In USA and India 'Movie' show are more famous than 'TV Shows',and in United Kingdom both type are equily popular,and In Japan 'TV shows' are more popular than 'Movie' shows."
   ]
  },
  {
   "cell_type": "code",
   "execution_count": 26,
   "id": "fe053ef5",
   "metadata": {
    "execution": {
     "iopub.execute_input": "2023-08-27T18:51:43.491637Z",
     "iopub.status.busy": "2023-08-27T18:51:43.491227Z",
     "iopub.status.idle": "2023-08-27T18:51:43.501469Z",
     "shell.execute_reply": "2023-08-27T18:51:43.500384Z"
    },
    "papermill": {
     "duration": 0.04665,
     "end_time": "2023-08-27T18:51:43.503529",
     "exception": false,
     "start_time": "2023-08-27T18:51:43.456879",
     "status": "completed"
    },
    "tags": []
   },
   "outputs": [
    {
     "data": {
      "text/plain": [
       "['United States', 'India', 'unknown', 'United Kingdom', 'Japan']"
      ]
     },
     "execution_count": 26,
     "metadata": {},
     "output_type": "execute_result"
    }
   ],
   "source": [
    "list(df['country'].value_counts()[:5].index)"
   ]
  },
  {
   "cell_type": "code",
   "execution_count": 27,
   "id": "bc19f25d",
   "metadata": {
    "execution": {
     "iopub.execute_input": "2023-08-27T18:51:43.571918Z",
     "iopub.status.busy": "2023-08-27T18:51:43.570896Z",
     "iopub.status.idle": "2023-08-27T18:51:44.489166Z",
     "shell.execute_reply": "2023-08-27T18:51:44.488161Z"
    },
    "papermill": {
     "duration": 0.955163,
     "end_time": "2023-08-27T18:51:44.491986",
     "exception": false,
     "start_time": "2023-08-27T18:51:43.536823",
     "status": "completed"
    },
    "tags": []
   },
   "outputs": [
    {
     "data": {
      "text/plain": [
       "<Axes: xlabel='country', ylabel='count'>"
      ]
     },
     "execution_count": 27,
     "metadata": {},
     "output_type": "execute_result"
    },
    {
     "data": {
      "image/png": "[encoded data removed]",
      "text/plain": [
       "<Figure size 640x480 with 1 Axes>"
      ]
     },
     "metadata": {},
     "output_type": "display_data"
    }
   ],
   "source": [
    "sns.countplot(data=temp_df,x='country',hue='rating')"
   ]
  },
  {
   "cell_type": "markdown",
   "id": "f8103ca9",
   "metadata": {
    "papermill": {
     "duration": 0.034269,
     "end_time": "2023-08-27T18:51:44.560988",
     "exception": false,
     "start_time": "2023-08-27T18:51:44.526719",
     "status": "completed"
    },
    "tags": []
   },
   "source": [
    "**Inference**:\n",
    "* for United states most of the shows have 'TV-MA' rating and in India most of the shows have 'TV-14' rating."
   ]
  },
  {
   "cell_type": "code",
   "execution_count": 30,
   "id": "5cd22e9f",
   "metadata": {
    "execution": {
     "iopub.execute_input": "2023-08-27T18:51:44.631734Z",
     "iopub.status.busy": "2023-08-27T18:51:44.631061Z",
     "iopub.status.idle": "2023-08-27T18:51:46.100403Z",
     "shell.execute_reply": "2023-08-27T18:51:46.099320Z"
    },
    "papermill": {
     "duration": 1.508358,
     "end_time": "2023-08-27T18:51:46.103711",
     "exception": false,
     "start_time": "2023-08-27T18:51:44.595353",
     "status": "completed"
    },
    "tags": []
   },
   "outputs": [
    {
     "data": {
      "text/plain": [
       "<Axes: xlabel='country', ylabel='count'>"
      ]
     },
     "execution_count": 30,
     "metadata": {},
     "output_type": "execute_result"
    },
    {
     "data": {
      "image/png": "[encoded data removed]",
      "text/plain": [
       "<Figure size 640x480 with 1 Axes>"
      ]
     },
     "metadata": {},
     "output_type": "display_data"
    }
   ],
   "source": [
    "sns.countplot(data=temp_df,x='country',hue='genre_1')"
   ]
  },
  {
   "cell_type": "markdown",
   "id": "7cc6a792",
   "metadata": {
    "execution": {
     "iopub.execute_input": "2023-08-27T18:46:41.903316Z",
     "iopub.status.busy": "2023-08-27T18:46:41.902787Z",
     "iopub.status.idle": "2023-08-27T18:46:41.910281Z",
     "shell.execute_reply": "2023-08-27T18:46:41.909061Z",
     "shell.execute_reply.started": "2023-08-27T18:46:41.903276Z"
    },
    "papermill": {
     "duration": 0.035873,
     "end_time": "2023-08-27T18:51:46.176177",
     "exception": false,
     "start_time": "2023-08-27T18:51:46.140304",
     "status": "completed"
    },
    "tags": []
   },
   "source": [
    "<a id ='summary'></a>\n",
    "# Summary\n",
    "* On Netflix 69% are Movie and 31% are TV Show\n",
    "* Director \"Rajiv Chilaka\" has released highest number of shows.\n",
    "* On Netflix most of the shows are from USA(31%) and India(11%).\n",
    "* Highest number of shows added was in 2019.\n",
    "* 'July,December,September' are the months in which most of the shows are released.\n",
    "* Most of the shows  are of  rating 'TV-MA,TV-14,TV-PG'.\n",
    "* Netflix has highest (i.e.17% ) shows of 'Drama' genre,followed by 'Comedies' genre.\n",
    "* In USA and India 'Movie' show are more famous than 'TV Shows',and in United Kingdom both type are equily popular,and In Japan 'TV shows' are more popular than 'Movie' shows.\n",
    "* for United states most of the shows have 'TV-MA' rating and in India most of the shows have 'TV-14' rating."
   ]
  }
 ],
 "metadata": {
  "kernelspec": {
   "display_name": "Python 3 (ipykernel)",
   "language": "python",
   "name": "python3"
  },
  "language_info": {
   "codemirror_mode": {
    "name": "ipython",
    "version": 3
   },
   "file_extension": ".py",
   "mimetype": "text/x-python",
   "name": "python",
   "nbconvert_exporter": "python",
   "pygments_lexer": "ipython3",
   "version": "3.10.4"
  },
  "papermill": {
   "default_parameters": {},
   "duration": 23.751108,
   "end_time": "2023-08-27T18:51:47.205823",
   "environment_variables": {},
   "exception": null,
   "input_path": "__notebook__.ipynb",
   "output_path": "__notebook__.ipynb",
   "parameters": {},
   "start_time": "2023-08-27T18:51:23.454715",
   "version": "2.4.0"
  }
 },
 "nbformat": 4,
 "nbformat_minor": 5
}
